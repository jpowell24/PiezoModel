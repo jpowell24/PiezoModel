{
 "cells": [
  {
   "cell_type": "code",
   "execution_count": null,
   "metadata": {},
   "outputs": [],
   "source": [
    "import pandas as pd\n",
    "import numpy as np\n",
    "import matplotlib.pyplot as plt\n",
    "import matplotlib.patches as mpatches\n",
    "import math\n",
    "import csv\n",
    "color_list =[\"#3eb991\",\"#e9a820\",\"#e01563\",\"#edb196\",\"#6ecadc\",\"#1f94ac\",\"#ae9a6a\",\"#ccb8a6\",\"#343a44\"]"
   ]
  },
  {
   "attachments": {},
   "cell_type": "markdown",
   "metadata": {},
   "source": [
    "# Graphing "
   ]
  },
  {
   "cell_type": "code",
   "execution_count": null,
   "metadata": {},
   "outputs": [],
   "source": [
    "def graph_df(data_frame:pd.DataFrame,begin_index=0,end_index=None):\n",
    "    if end_index:\n",
    "        column_name =list(data_frame.columns )[begin_index:end_index]\n",
    "    else:\n",
    "        column_name =list(data_frame.columns )[begin_index:]\n",
    "\n",
    "    fig, (ax1, ax2, ax3, ax4, ax5, ax6, ax7, ax8, ax9, ax10) = plt.subplots(10, sharex=True, figsize=(10,7))\n",
    "\n",
    "    x = np.arange(0, len(data_frame), step=1)\n",
    "\n",
    "    y = []\n",
    "    \n",
    "    num = 0\n",
    "    while num < end_index:\n",
    "        y.append(data_frame.iloc[:,num])\n",
    "        num += 1\n",
    "\n",
    "\n",
    "    ax1.plot(x, y[0], c='red')\n",
    "    ax2.plot(x, y[1], c='red')\n",
    "    ax3.plot(x, y[2], c='red')\n",
    "    ax4.plot(x, y[3], c='red')\n",
    "    ax5.plot(x, y[4], c='red')\n",
    "    ax6.plot(x, y[5], c='red')\n",
    "    ax7.plot(x, y[6], c='red')\n",
    "    ax8.plot(x, y[7], c='red')\n",
    "    ax9.plot(x, y[8], c='red')\n",
    "    ax10.plot(x, y[9], c='red')\n",
    "\n",
    "    ax1.set_ylabel('Trial1')\n",
    "    ax2.set_ylabel('Trial2')\n",
    "    ax3.set_ylabel('Trial3')\n",
    "    ax4.set_ylabel('Trial4')\n",
    "    ax5.set_ylabel('Trial5')\n",
    "    ax6.set_ylabel('Trial6')\n",
    "    ax7.set_ylabel('Trial7')\n",
    "    ax8.set_ylabel('Trial8')\n",
    "    ax9.set_ylabel('Trial9')\n",
    "    ax10.set_ylabel('Trial10')\n",
    "    \n",
    "\n",
    "    fig.suptitle('Piezo single channel trials')\n",
    "\n",
    "    plt.plot()\n",
    "    plt.xlabel('time (ms)')\n",
    "    # plt.ylabel('open vs. closed')\n",
    "    #ax.set_title(t)\n",
    "    plt.tight_layout()\n",
    "    #print(y1)\n",
    "    print(data_frame.columns)\n"
   ]
  },
  {
   "cell_type": "code",
   "execution_count": null,
   "metadata": {},
   "outputs": [],
   "source": [
    "Piezo_activation = pd.DataFrame(pd.read_csv(\"../data_files/Piezo_Single_Channel.csv\"))\n",
    "#display(Piezo_activation) \n",
    "graph_df(Piezo_activation,0,10)"
   ]
  }
 ],
 "metadata": {
  "kernelspec": {
   "display_name": "Python 3",
   "language": "python",
   "name": "python3"
  },
  "language_info": {
   "codemirror_mode": {
    "name": "ipython",
    "version": 3
   },
   "file_extension": ".py",
   "mimetype": "text/x-python",
   "name": "python",
   "nbconvert_exporter": "python",
   "pygments_lexer": "ipython3",
   "version": "3.10.11"
  },
  "orig_nbformat": 4
 },
 "nbformat": 4,
 "nbformat_minor": 2
}
